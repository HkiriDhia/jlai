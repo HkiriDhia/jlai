{
  "nbformat": 4,
  "nbformat_minor": 0,
  "metadata": {
    "colab": {
      "provenance": [],
      "include_colab_link": true
    },
    "kernelspec": {
      "name": "python3",
      "display_name": "Python 3"
    },
    "accelerator": "GPU"
  },
  "cells": [
    {
      "cell_type": "markdown",
      "metadata": {
        "id": "view-in-github",
        "colab_type": "text"
      },
      "source": [
        "<a href=\"https://colab.research.google.com/github/a-mhamdi/jlai/blob/main/Codes/Julia/install_julia.ipynb\" target=\"_parent\"><img src=\"https://colab.research.google.com/assets/colab-badge.svg\" alt=\"Open In Colab\"/></a>"
      ]
    },
    {
      "cell_type": "markdown",
      "source": [
        "[Julia on Google Colab](https://discourse.julialang.org/t/julia-on-google-colab-free-gpu-accelerated-shareable-notebooks/15319)"
      ],
      "metadata": {
        "id": "XT-FDqbX2qCH"
      }
    },
    {
      "metadata": {
        "id": "cEOANYIVIdR5",
        "colab": {
          "base_uri": "https://localhost:8080/"
        },
        "outputId": "6eb6c759-936b-40e5-dbcd-d562073728bb"
      },
      "cell_type": "code",
      "source": [
        "!wget https://developer.nvidia.com/compute/cuda/9.0/Prod/local_installers/cuda-repo-ubuntu1604-9-0-local_9.0.176-1_amd64-deb\n",
        "!dpkg -i cuda-repo-ubuntu1604-9-0-local_9.0.176-1_amd64-deb\n",
        "!apt-key add /var/cuda-repo-9-0-local/7fa2af80.pub\n",
        "!apt update -q\n",
        "!apt install cuda gcc-6 g++-6 -y -q\n",
        "!ln -s /usr/bin/gcc-6 /usr/local/cuda/bin/gcc\n",
        "!ln -s /usr/bin/g++-6 /usr/local/cuda/bin/g++\n",
        "\n",
        "!curl -sSL \"https://julialang-s3.julialang.org/bin/linux/x64/1.0/julia-1.0.0-linux-x86_64.tar.gz\" -o julia.tar.gz\n",
        "!tar -xzf julia.tar.gz -C /usr --strip-components 1\n",
        "!rm -rf julia.tar.gz*\n",
        "!julia -e 'using Pkg; pkg\"add IJulia; add CuArrays; add Flux; precompile\"'"
      ],
      "execution_count": null,
      "outputs": [
        {
          "output_type": "stream",
          "name": "stdout",
          "text": [
            "--2023-02-02 20:38:39--  https://developer.nvidia.com/compute/cuda/9.0/Prod/local_installers/cuda-repo-ubuntu1604-9-0-local_9.0.176-1_amd64-deb\n",
            "Resolving developer.nvidia.com (developer.nvidia.com)... 152.199.39.144\n",
            "Connecting to developer.nvidia.com (developer.nvidia.com)|152.199.39.144|:443... connected.\n",
            "HTTP request sent, awaiting response... 301 Moved Permanently\n",
            "Location: https://developer.nvidia.com/downloads/compute/cuda/9.0/Prod/local_installers/cuda-repo-ubuntu1604-9-0-local_9.0.176-1_amd64-deb [following]\n",
            "--2023-02-02 20:38:40--  https://developer.nvidia.com/downloads/compute/cuda/9.0/Prod/local_installers/cuda-repo-ubuntu1604-9-0-local_9.0.176-1_amd64-deb\n",
            "Reusing existing connection to developer.nvidia.com:443.\n",
            "HTTP request sent, awaiting response... 302 Found\n",
            "Location: https://developer.download.nvidia.com/compute/cuda/9.0/secure/Prod/local_installers/cuda-repo-ubuntu1604-9-0-local_9.0.176-1_amd64.deb?hJ1OL9P7cCBURUPWmbFcTTQbTg2FCQzTRuSwTEHP5fhEP6-4H1FNLiWR4FjrxWns5r9rKJqkoXCPLkvs3qsMuqQmKnY6jtqXm7P9B5mn0A-ZtoLUS62NlWVLbF6I86XwIYxnTe85V5w-jSDIF5cQ5KtHOUQc3oxg0TIZzw5CZCXR7nRsGGB2LSNOnk7lvkdQ7bU1BRwmFMzXZTzpj_00 [following]\n",
            "--2023-02-02 20:38:41--  https://developer.download.nvidia.com/compute/cuda/9.0/secure/Prod/local_installers/cuda-repo-ubuntu1604-9-0-local_9.0.176-1_amd64.deb?hJ1OL9P7cCBURUPWmbFcTTQbTg2FCQzTRuSwTEHP5fhEP6-4H1FNLiWR4FjrxWns5r9rKJqkoXCPLkvs3qsMuqQmKnY6jtqXm7P9B5mn0A-ZtoLUS62NlWVLbF6I86XwIYxnTe85V5w-jSDIF5cQ5KtHOUQc3oxg0TIZzw5CZCXR7nRsGGB2LSNOnk7lvkdQ7bU1BRwmFMzXZTzpj_00\n",
            "Resolving developer.download.nvidia.com (developer.download.nvidia.com)... 152.195.19.142\n",
            "Connecting to developer.download.nvidia.com (developer.download.nvidia.com)|152.195.19.142|:443... connected.\n",
            "HTTP request sent, awaiting response... 200 OK\n",
            "Length: 1212738714 (1.1G) [application/x-deb]\n",
            "Saving to: ‘cuda-repo-ubuntu1604-9-0-local_9.0.176-1_amd64-deb’\n",
            "\n",
            "cuda-repo-ubuntu160 100%[===================>]   1.13G  18.0MB/s    in 67s     \n",
            "\n",
            "2023-02-02 20:39:49 (17.2 MB/s) - ‘cuda-repo-ubuntu1604-9-0-local_9.0.176-1_amd64-deb’ saved [1212738714/1212738714]\n",
            "\n",
            "Selecting previously unselected package cuda-repo-ubuntu1604-9-0-local.\n",
            "(Reading database ... 129496 files and directories currently installed.)\n",
            "Preparing to unpack cuda-repo-ubuntu1604-9-0-local_9.0.176-1_amd64-deb ...\n",
            "Unpacking cuda-repo-ubuntu1604-9-0-local (9.0.176-1) ...\n",
            "Setting up cuda-repo-ubuntu1604-9-0-local (9.0.176-1) ...\n",
            "OK\n",
            "Get:1 file:/var/cuda-repo-9-0-local  InRelease\n",
            "Ign:1 file:/var/cuda-repo-9-0-local  InRelease\n",
            "Get:2 file:/var/cuda-repo-9-0-local  Release [574 B]\n",
            "Get:2 file:/var/cuda-repo-9-0-local  Release [574 B]\n",
            "Get:3 file:/var/cuda-repo-9-0-local  Release.gpg [819 B]\n",
            "Get:3 file:/var/cuda-repo-9-0-local  Release.gpg [819 B]\n",
            "Get:4 https://cloud.r-project.org/bin/linux/ubuntu focal-cran40/ InRelease [3,622 B]\n",
            "Get:5 file:/var/cuda-repo-9-0-local  Packages [15.4 kB]\n",
            "Ign:6 https://developer.download.nvidia.com/compute/machine-learning/repos/ubuntu2004/x86_64  InRelease\n",
            "Hit:7 http://ppa.launchpad.net/c2d4u.team/c2d4u4.0+/ubuntu focal InRelease\n",
            "Get:8 https://developer.download.nvidia.com/compute/cuda/repos/ubuntu2004/x86_64  InRelease [1,581 B]\n",
            "Hit:9 https://developer.download.nvidia.com/compute/machine-learning/repos/ubuntu2004/x86_64  Release\n",
            "Hit:10 http://archive.ubuntu.com/ubuntu focal InRelease\n",
            "Get:11 http://archive.ubuntu.com/ubuntu focal-updates InRelease [114 kB]\n",
            "Get:12 http://security.ubuntu.com/ubuntu focal-security InRelease [114 kB]\n",
            "Hit:13 http://ppa.launchpad.net/cran/libgit2/ubuntu focal InRelease\n",
            "Get:14 https://developer.download.nvidia.com/compute/cuda/repos/ubuntu2004/x86_64  Packages [870 kB]\n",
            "Hit:15 http://ppa.launchpad.net/deadsnakes/ppa/ubuntu focal InRelease\n",
            "Hit:17 http://ppa.launchpad.net/graphics-drivers/ppa/ubuntu focal InRelease\n",
            "Get:18 http://archive.ubuntu.com/ubuntu focal-backports InRelease [108 kB]\n",
            "Get:19 http://archive.ubuntu.com/ubuntu focal-updates/main amd64 Packages [2,921 kB]\n",
            "Get:20 http://security.ubuntu.com/ubuntu focal-security/universe amd64 Packages [991 kB]\n",
            "Get:21 http://archive.ubuntu.com/ubuntu focal-updates/universe amd64 Packages [1,291 kB]\n",
            "Get:22 http://archive.ubuntu.com/ubuntu focal-backports/universe amd64 Packages [28.6 kB]\n",
            "Fetched 6,443 kB in 4s (1,735 kB/s)\n",
            "Reading package lists...\n",
            "Building dependency tree...\n",
            "Reading state information...\n",
            "27 packages can be upgraded. Run 'apt list --upgradable' to see them.\n",
            "Reading package lists...\n",
            "Building dependency tree...\n",
            "Reading state information...\n",
            "Package gcc-6 is not available, but is referred to by another package.\n",
            "This may mean that the package is missing, has been obsoleted, or\n",
            "is only available from another source\n",
            "\n",
            "Package g++-6 is not available, but is referred to by another package.\n",
            "This may mean that the package is missing, has been obsoleted, or\n",
            "is only available from another source\n",
            "\n",
            "\u001b[1;31mE: \u001b[0mPackage 'gcc-6' has no installation candidate\u001b[0m\n",
            "\u001b[1;31mE: \u001b[0mPackage 'g++-6' has no installation candidate\u001b[0m\n",
            "   Cloning default registries into /root/.julia/registries\n",
            "   Cloning registry General from \"https://github.com/JuliaRegistries/General.git\"\n",
            "\u001b[?25lfree(): invalid pointer\n",
            "\n",
            "signal (6): Aborted\n",
            "in expression starting at no file:0\n",
            "gsignal at /lib/x86_64-linux-gnu/libc.so.6 (unknown line)\n",
            "abort at /lib/x86_64-linux-gnu/libc.so.6 (unknown line)\n",
            "unknown function (ip: 0x7f906d04626d)\n",
            "unknown function (ip: 0x7f906d04e2fb)\n",
            "unknown function (ip: 0x7f906d04fb2b)\n",
            "git_mbedtls_stream_global_init at /usr/bin/../lib/julia/libgit2.so (unknown line)\n",
            "init_once at /usr/bin/../lib/julia/libgit2.so (unknown line)\n",
            "__pthread_once_slow at /lib/x86_64-linux-gnu/libpthread.so.0 (unknown line)\n",
            "git_libgit2_init at /usr/bin/../lib/julia/libgit2.so (unknown line)\n",
            "macro expansion at /buildworker/worker/package_linux64/build/usr/share/julia/stdlib/v1.0/LibGit2/src/error.jl:99 [inlined]\n",
            "initialize at /buildworker/worker/package_linux64/build/usr/share/julia/stdlib/v1.0/LibGit2/src/LibGit2.jl:977\n",
            "ensure_initialized at /buildworker/worker/package_linux64/build/usr/share/julia/stdlib/v1.0/LibGit2/src/LibGit2.jl:967 [inlined]\n",
            "Type at /buildworker/worker/package_linux64/build/usr/share/julia/stdlib/v1.0/LibGit2/src/config.jl:50\n",
            "Type at /buildworker/worker/package_linux64/build/usr/share/julia/stdlib/v1.0/LibGit2/src/config.jl:50 [inlined]\n",
            "Type at /buildworker/worker/package_linux64/build/usr/share/julia/stdlib/v1.0/LibGit2/src/types.jl:1340 [inlined]\n",
            "#CredentialPayload#32 at /buildworker/worker/package_linux64/build/usr/share/julia/stdlib/v1.0/LibGit2/src/types.jl:1350 [inlined]\n",
            "Type at /buildworker/worker/package_linux64/build/usr/share/julia/stdlib/v1.0/LibGit2/src/types.jl:1350 [inlined]\n",
            "#clone#131 at /buildworker/worker/package_linux64/build/usr/share/julia/stdlib/v1.0/LibGit2/src/LibGit2.jl:559\n",
            "unknown function (ip: 0x7f9053a7fed7)\n",
            "jl_fptr_trampoline at /buildworker/worker/package_linux64/build/src/gf.c:1829\n",
            "jl_apply_generic at /buildworker/worker/package_linux64/build/src/gf.c:2182\n",
            "#clone at ./none:0 [inlined]\n",
            "#clone#2 at /buildworker/worker/package_linux64/build/usr/share/julia/stdlib/v1.0/Pkg/src/GitTools.jl:94\n",
            "jl_fptr_trampoline at /buildworker/worker/package_linux64/build/src/gf.c:1829\n",
            "jl_apply_generic at /buildworker/worker/package_linux64/build/src/gf.c:2182\n",
            "#clone at ./none:0 [inlined]\n",
            "#50 at /buildworker/worker/package_linux64/build/usr/share/julia/stdlib/v1.0/Pkg/src/Types.jl:927\n",
            "shred! at ./secretbuffer.jl:184\n",
            "#registries#49 at /buildworker/worker/package_linux64/build/usr/share/julia/stdlib/v1.0/Pkg/src/Types.jl:923\n",
            "jfptr_#registries#49_9572.clone_1 at /usr/lib/julia/sys.so (unknown line)\n",
            "jl_apply_generic at /buildworker/worker/package_linux64/build/src/gf.c:2182\n",
            "registries at /buildworker/worker/package_linux64/build/usr/share/julia/stdlib/v1.0/Pkg/src/Types.jl:907 [inlined]\n",
            "macro expansion at ./logging.jl:307 [inlined]\n",
            "update_registry at /buildworker/worker/package_linux64/build/usr/share/julia/stdlib/v1.0/Pkg/src/API.jl:96\n",
            "#handle_repos_add!#31 at /buildworker/worker/package_linux64/build/usr/share/julia/stdlib/v1.0/Pkg/src/Types.jl:593\n",
            "jfptr_#handle_repos_add!#31_9516.clone_1 at /usr/lib/julia/sys.so (unknown line)\n",
            "jl_apply_generic at /buildworker/worker/package_linux64/build/src/gf.c:2182\n",
            "#handle_repos_add! at ./none:0 [inlined]\n",
            "#add_or_develop#13 at /buildworker/worker/package_linux64/build/usr/share/julia/stdlib/v1.0/Pkg/src/API.jl:54\n",
            "jfptr_#add_or_develop#13_6721.clone_1 at /usr/lib/julia/sys.so (unknown line)\n",
            "jl_apply_generic at /buildworker/worker/package_linux64/build/src/gf.c:2182\n",
            "#add_or_develop at ./none:0\n",
            "jl_apply_generic at /buildworker/worker/package_linux64/build/src/gf.c:2182\n",
            "do_add! at /buildworker/worker/package_linux64/build/usr/share/julia/stdlib/v1.0/Pkg/src/REPLMode.jl:633\n",
            "jl_apply_generic at /buildworker/worker/package_linux64/build/src/gf.c:2182\n",
            "jl_apply at /buildworker/worker/package_linux64/build/src/julia.h:1536 [inlined]\n",
            "jl_f__apply at /buildworker/worker/package_linux64/build/src/builtins.c:556\n",
            "jl_f__apply_latest at /buildworker/worker/package_linux64/build/src/builtins.c:594\n",
            "#invokelatest#1 at ./essentials.jl:686\n",
            "jl_apply_generic at /buildworker/worker/package_linux64/build/src/gf.c:2182\n",
            "jl_apply at /buildworker/worker/package_linux64/build/src/julia.h:1536 [inlined]\n",
            "jl_f__apply at /buildworker/worker/package_linux64/build/src/builtins.c:556\n",
            "invokelatest at ./essentials.jl:685\n",
            "jl_apply_generic at /buildworker/worker/package_linux64/build/src/gf.c:2182\n",
            "do_cmd! at /buildworker/worker/package_linux64/build/usr/share/julia/stdlib/v1.0/Pkg/src/REPLMode.jl:542\n",
            "#do_cmd#30 at /buildworker/worker/package_linux64/build/usr/share/julia/stdlib/v1.0/Pkg/src/REPLMode.jl:507\n",
            "unknown function (ip: 0x7f9053a7d803)\n",
            "jl_fptr_trampoline at /buildworker/worker/package_linux64/build/src/gf.c:1829\n",
            "jl_apply_generic at /buildworker/worker/package_linux64/build/src/gf.c:2182\n",
            "#do_cmd at ./none:0\n",
            "unknown function (ip: 0x7f9053a7d29d)\n",
            "jl_fptr_trampoline at /buildworker/worker/package_linux64/build/src/gf.c:1829\n",
            "jl_apply_generic at /buildworker/worker/package_linux64/build/src/gf.c:2182\n",
            "do_call at /buildworker/worker/package_linux64/build/src/interpreter.c:324\n",
            "eval_value at /buildworker/worker/package_linux64/build/src/interpreter.c:428\n",
            "eval_stmt_value at /buildworker/worker/package_linux64/build/src/interpreter.c:363 [inlined]\n",
            "eval_body at /buildworker/worker/package_linux64/build/src/interpreter.c:686\n",
            "jl_interpret_toplevel_thunk_callback at /buildworker/worker/package_linux64/build/src/interpreter.c:799\n",
            "unknown function (ip: 0xfffffffffffffffe)\n",
            "unknown function (ip: 0x7f905c9c0e6f)\n",
            "unknown function (ip: 0x6)\n",
            "jl_interpret_toplevel_thunk at /buildworker/worker/package_linux64/build/src/interpreter.c:808\n",
            "jl_toplevel_eval_flex at /buildworker/worker/package_linux64/build/src/toplevel.c:787\n",
            "jl_toplevel_eval_flex at /buildworker/worker/package_linux64/build/src/toplevel.c:734\n",
            "jl_toplevel_eval_in at /buildworker/worker/package_linux64/build/src/builtins.c:622\n",
            "eval at ./boot.jl:319\n",
            "jl_apply_generic at /buildworker/worker/package_linux64/build/src/gf.c:2182\n",
            "macro expansion at ./logging.jl:317 [inlined]\n",
            "exec_options at ./client.jl:219\n",
            "_start at ./client.jl:421\n",
            "jl_apply_generic at /buildworker/worker/package_linux64/build/src/gf.c:2182\n",
            "unknown function (ip: 0x401ae8)\n",
            "unknown function (ip: 0x401513)\n",
            "__libc_start_main at /lib/x86_64-linux-gnu/libc.so.6 (unknown line)\n",
            "unknown function (ip: 0x4015b4)\n",
            "Allocations: 181127 (Pool: 181035; Big: 92); GC: 0\n"
          ]
        }
      ]
    },
    {
      "metadata": {
        "id": "bqp7S32ULebR",
        "colab": {
          "base_uri": "https://localhost:8080/",
          "height": 131
        },
        "outputId": "714427dd-fc7d-4fc4-8a48-680b6466b1ca"
      },
      "cell_type": "code",
      "source": [
        "using Pkg"
      ],
      "execution_count": null,
      "outputs": [
        {
          "output_type": "error",
          "ename": "SyntaxError",
          "evalue": "ignored",
          "traceback": [
            "\u001b[0;36m  File \u001b[0;32m\"<ipython-input-2-48efecd888be>\"\u001b[0;36m, line \u001b[0;32m1\u001b[0m\n\u001b[0;31m    using Pkg\u001b[0m\n\u001b[0m          ^\u001b[0m\n\u001b[0;31mSyntaxError\u001b[0m\u001b[0;31m:\u001b[0m invalid syntax\n"
          ]
        }
      ]
    },
    {
      "cell_type": "code",
      "source": [],
      "metadata": {
        "id": "CzV_qhT43plH"
      },
      "execution_count": null,
      "outputs": []
    }
  ]
}